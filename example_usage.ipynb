{
 "cells": [
  {
   "cell_type": "markdown",
   "metadata": {},
   "source": [
    "# Initialization\n",
    "\n",
    "The \"State\" notation reads as follows: \\\n",
    "\\\n",
    "On the left of the divider \"**|**\", the number of fingers on players one's left hand, then the number of fingers on player one's right hand.\\\n",
    "On the right of the divider \"**|**\", the number of fingers on players two's left hand, then the number of fingers on player two's right hand."
   ]
  },
  {
   "cell_type": "code",
   "execution_count": 1,
   "metadata": {},
   "outputs": [],
   "source": [
    "from chopsticks_functions import Chopstick\n",
    "my_chopstick = Chopstick(max_depth=10)"
   ]
  },
  {
   "cell_type": "markdown",
   "metadata": {},
   "source": [
    "# Watch the AI Play Against Itself"
   ]
  },
  {
   "cell_type": "code",
   "execution_count": 3,
   "metadata": {},
   "outputs": [
    {
     "name": "stdout",
     "output_type": "stream",
     "text": [
      "Player     State     Turn #\n",
      "0          11|11     0\n",
      "1          11|12     1\n",
      "0          11|03     2\n",
      "1          11|04     3\n",
      "0          11|13     4\n",
      "1          11|14     5\n",
      "0          11|23     6\n",
      "1          11|33     7\n",
      "0          14|33     8\n",
      "1          14|34     9\n",
      "0          01|34     10\n",
      "1          01|03     11\n",
      "0          01|12     12\n",
      "1          01|22     13\n",
      "0          01|13     14\n",
      "1          01|23     15\n",
      "0          03|23     16\n",
      "1          12|23     17\n",
      "0          01|23     18\n",
      "1          01|33     19\n",
      "0          01|24     20\n",
      "1          01|02     21\n",
      "0          01|11     22\n",
      "1          01|12     23\n",
      "0          01|03     24\n",
      "1          01|04     25\n",
      "0          00|04     26\n",
      "Completed!\n",
      "Number of Turns: 26\n"
     ]
    }
   ],
   "source": [
    "my_chopstick = Chopstick(max_depth=30)\n",
    "my_chopstick.spectate_AI()"
   ]
  },
  {
   "cell_type": "markdown",
   "metadata": {},
   "source": [
    "# Play Against the AI"
   ]
  },
  {
   "cell_type": "code",
   "execution_count": 5,
   "metadata": {},
   "outputs": [
    {
     "name": "stdout",
     "output_type": "stream",
     "text": [
      "Player     State     Turn #\n",
      "0          11|11     0\n",
      "1          11|12     1\n",
      "0          11|03     2\n",
      "1          11|04     3\n",
      "0          11|13     4\n",
      "1          11|23     5\n",
      "0          11|14     6\n",
      "1          11|01     7\n",
      "0          12|01     8\n",
      "1          03|01     9\n",
      "0          04|01     10\n",
      "1          04|00     11\n",
      "The AI Won!\n"
     ]
    }
   ],
   "source": [
    "# choosing to go second (player=1)\n",
    "my_chopstick.play_AI(player_choice=1)"
   ]
  }
 ],
 "metadata": {
  "kernelspec": {
   "display_name": "Python 3",
   "language": "python",
   "name": "python3"
  },
  "language_info": {
   "codemirror_mode": {
    "name": "ipython",
    "version": 3
   },
   "file_extension": ".py",
   "mimetype": "text/x-python",
   "name": "python",
   "nbconvert_exporter": "python",
   "pygments_lexer": "ipython3",
   "version": "3.9.6"
  }
 },
 "nbformat": 4,
 "nbformat_minor": 2
}
