{
 "cells": [
  {
   "cell_type": "markdown",
   "metadata": {},
   "source": [
    "# Initialization\n",
    "\n",
    "The \"State\" notation reads as follows: \\\n",
    "\\\n",
    "On the left of the divider \"**|**\", the number of fingers on players one's left hand, then the number of fingers on player one's right hand.\\\n",
    "On the right of the divider \"**|**\", the number of fingers on players two's left hand, then the number of fingers on player two's right hand."
   ]
  },
  {
   "cell_type": "code",
   "execution_count": 1,
   "metadata": {},
   "outputs": [],
   "source": [
    "from chopsticks_functions import Chopstick\n",
    "my_chopstick = Chopstick(max_depth=10)"
   ]
  },
  {
   "cell_type": "markdown",
   "metadata": {},
   "source": [
    "# Watch the AI Play Against Itself"
   ]
  },
  {
   "cell_type": "code",
   "execution_count": 2,
   "metadata": {},
   "outputs": [
    {
     "name": "stdout",
     "output_type": "stream",
     "text": [
      "Player     State     Turn #\n",
      "0          11|11     0\n",
      "1          11|12     1\n",
      "0          12|12     2\n",
      "1          12|22     3\n",
      "0          23|22     4\n",
      "1          23|02     5\n",
      "0          02|02     6\n",
      "1          11|02     7\n",
      "0          11|11     8\n",
      "1          11|12     9\n",
      "0          12|12     10\n",
      "1          12|22     11\n",
      "0          23|22     12\n",
      "1          23|02     13\n",
      "0          02|02     14\n",
      "1          11|02     15\n",
      "0          11|11     16\n",
      "1          11|12     17\n",
      "0          12|12     18\n",
      "1          12|22     19\n"
     ]
    }
   ],
   "source": [
    "my_chopstick = Chopstick(max_depth=10)\n",
    "my_chopstick.spectate_AI(number_of_rounds=20)"
   ]
  },
  {
   "cell_type": "markdown",
   "metadata": {},
   "source": [
    "# Play Against the AI"
   ]
  },
  {
   "cell_type": "code",
   "execution_count": 5,
   "metadata": {},
   "outputs": [
    {
     "name": "stdout",
     "output_type": "stream",
     "text": [
      "Player     State     Turn #\n",
      "0          11|11     0\n",
      "1          11|12     1\n",
      "0          11|03     2\n",
      "1          11|04     3\n",
      "0          11|13     4\n",
      "1          11|23     5\n",
      "0          11|14     6\n",
      "1          11|01     7\n",
      "0          12|01     8\n",
      "1          03|01     9\n",
      "0          04|01     10\n",
      "1          04|00     11\n",
      "The AI Won!\n"
     ]
    }
   ],
   "source": [
    "# choosing to go second (player=1)\n",
    "my_chopstick.play_AI(player_choice=1)"
   ]
  }
 ],
 "metadata": {
  "kernelspec": {
   "display_name": "Python 3",
   "language": "python",
   "name": "python3"
  },
  "language_info": {
   "codemirror_mode": {
    "name": "ipython",
    "version": 3
   },
   "file_extension": ".py",
   "mimetype": "text/x-python",
   "name": "python",
   "nbconvert_exporter": "python",
   "pygments_lexer": "ipython3",
   "version": "3.9.6"
  }
 },
 "nbformat": 4,
 "nbformat_minor": 2
}
